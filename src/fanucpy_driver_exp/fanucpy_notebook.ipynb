{
 "cells": [
  {
   "cell_type": "markdown",
   "metadata": {},
   "source": [
    "# Fanucpy Experiments"
   ]
  },
  {
   "cell_type": "code",
   "execution_count": 1,
   "metadata": {},
   "outputs": [],
   "source": [
    "from matplotlib import pyplot as plt\n",
    "from fanucpy import Robot\n",
    "import numpy as np\n",
    "import netifaces as ni"
   ]
  },
  {
   "cell_type": "markdown",
   "metadata": {},
   "source": [
    "Set Variables"
   ]
  },
  {
   "cell_type": "code",
   "execution_count": 7,
   "metadata": {},
   "outputs": [],
   "source": [
    "FILE = './trajectories/tibia_joint_traj.csv'\n",
    "NF=\"eth0\"\n",
    "PORT = 18735\n",
    "\n",
    "# Joint Position Constants\n",
    "INIT_POS = [0.0, 0.0, 0.0, 0.0, -90.0, 0.0]"
   ]
  },
  {
   "cell_type": "markdown",
   "metadata": {},
   "source": [
    "Load Joint Trajectories and Connection Parameters"
   ]
  },
  {
   "cell_type": "code",
   "execution_count": 9,
   "metadata": {},
   "outputs": [],
   "source": [
    "joints = np.genfromtxt(FILE, dtype=np.float64, delimiter=',')\n",
    "\n",
    "# Setting robot connection parameters (Uncomment Below!!!)\n",
    "IP = ni.ifaddresses(NF)[ni.AF_INET][0]['addr']"
   ]
  },
  {
   "cell_type": "markdown",
   "metadata": {},
   "source": [
    "## Connect to Fanuc TCP Interface"
   ]
  },
  {
   "cell_type": "code",
   "execution_count": 12,
   "metadata": {},
   "outputs": [
    {
     "ename": "NameError",
     "evalue": "name 'IP' is not defined",
     "output_type": "error",
     "traceback": [
      "\u001b[0;31m---------------------------------------------------------------------------\u001b[0m",
      "\u001b[0;31mNameError\u001b[0m                                 Traceback (most recent call last)",
      "Cell \u001b[0;32mIn[12], line 3\u001b[0m\n\u001b[1;32m      1\u001b[0m robot \u001b[38;5;241m=\u001b[39m Robot(\n\u001b[1;32m      2\u001b[0m     robot_model\u001b[38;5;241m=\u001b[39m\u001b[38;5;124m\"\u001b[39m\u001b[38;5;124mFanuc\u001b[39m\u001b[38;5;124m\"\u001b[39m,\n\u001b[0;32m----> 3\u001b[0m     host\u001b[38;5;241m=\u001b[39m\u001b[43mIP\u001b[49m,\n\u001b[1;32m      4\u001b[0m     port\u001b[38;5;241m=\u001b[39mPORT,\n\u001b[1;32m      5\u001b[0m     ee_DO_type\u001b[38;5;241m=\u001b[39m\u001b[38;5;124m\"\u001b[39m\u001b[38;5;124mRDO\u001b[39m\u001b[38;5;124m\"\u001b[39m, \u001b[38;5;66;03m# end effector robot digital output type\u001b[39;00m\n\u001b[1;32m      6\u001b[0m     ee_DO_num\u001b[38;5;241m=\u001b[39m\u001b[38;5;241m7\u001b[39m, \u001b[38;5;66;03m# end effector digital output number\u001b[39;00m\n\u001b[1;32m      7\u001b[0m )\n",
      "\u001b[0;31mNameError\u001b[0m: name 'IP' is not defined"
     ]
    }
   ],
   "source": [
    "robot = Robot(\n",
    "    robot_model=\"Fanuc\",\n",
    "    host=IP,\n",
    "    port=PORT,\n",
    "    ee_DO_type=\"RDO\", # end effector robot digital output type\n",
    "    ee_DO_num=7, # end effector digital output number\n",
    ")"
   ]
  },
  {
   "cell_type": "code",
   "execution_count": null,
   "metadata": {},
   "outputs": [],
   "source": [
    "robot.connect()"
   ]
  },
  {
   "cell_type": "markdown",
   "metadata": {},
   "source": [
    "## Run biplane-fluoroscopy gait trajectory solution."
   ]
  },
  {
   "cell_type": "code",
   "execution_count": null,
   "metadata": {},
   "outputs": [],
   "source": [
    "VEL = 100 # Percentage or mm/s (Def is 25%)\n",
    "ACCEL = 50 # Percentage or mm/s^2 (Def is 100%)"
   ]
  },
  {
   "cell_type": "code",
   "execution_count": null,
   "metadata": {},
   "outputs": [],
   "source": [
    "# Command robot to move to initial position.\n",
    "\n",
    "robot.move(\n",
    "    \"joint\", # Either command with pose or joint vector.\n",
    "    vals=INIT_POS,\n",
    "    velocity=VEL,\n",
    "    acceleration=ACCEL,\n",
    "    cnt_val=0, # Continuous value for stopping (defaults to False)\n",
    "    linear=False\n",
    ")"
   ]
  },
  {
   "cell_type": "code",
   "execution_count": 13,
   "metadata": {},
   "outputs": [
    {
     "ename": "NameError",
     "evalue": "name 'robot' is not defined",
     "output_type": "error",
     "traceback": [
      "\u001b[0;31m---------------------------------------------------------------------------\u001b[0m",
      "\u001b[0;31mNameError\u001b[0m                                 Traceback (most recent call last)",
      "Cell \u001b[0;32mIn[13], line 4\u001b[0m\n\u001b[1;32m      1\u001b[0m \u001b[38;5;66;03m# Command robot to complete programmed trajectory\u001b[39;00m\n\u001b[1;32m      3\u001b[0m \u001b[38;5;28;01mfor\u001b[39;00m j \u001b[38;5;129;01min\u001b[39;00m joints:\n\u001b[0;32m----> 4\u001b[0m     \u001b[43mrobot\u001b[49m\u001b[38;5;241m.\u001b[39mmove(move_type\u001b[38;5;241m=\u001b[39m\u001b[38;5;124m\"\u001b[39m\u001b[38;5;124mjoint\u001b[39m\u001b[38;5;124m\"\u001b[39m, vals\u001b[38;5;241m=\u001b[39mj\u001b[38;5;241m.\u001b[39mtolist(), velocity\u001b[38;5;241m=\u001b[39mVEL, acceleration\u001b[38;5;241m=\u001b[39mACCEL, cnt_val\u001b[38;5;241m=\u001b[39m\u001b[38;5;241m0\u001b[39m)\n",
      "\u001b[0;31mNameError\u001b[0m: name 'robot' is not defined"
     ]
    }
   ],
   "source": [
    "# Command robot to complete programmed trajectory\n",
    "joints_out = list()\n",
    "pos_out = list()\n",
    "for j in joints:\n",
    "    robot.move(move_type=\"joint\", vals=j.tolist(), velocity=VEL, acceleration=ACCEL, cnt_val=0)\n",
    "    \n",
    "    joints_out.append(robot.get_curjpos())\n",
    "    pos_out.append(robot.get_curpos())"
   ]
  },
  {
   "cell_type": "code",
   "execution_count": null,
   "metadata": {},
   "outputs": [],
   "source": [
    "# Plot Joints and positions\n",
    "j_fig = plt.figure([6, 4])\n",
    "plt.plot(joints_out)\n",
    "plt.show()\n",
    "\n",
    "pos_fig = plt.figure()\n",
    "ax = plt.axes(projection='3d')\n",
    "ax.scatter3D(pos_out) # check pos_out matrix"
   ]
  },
  {
   "cell_type": "markdown",
   "metadata": {},
   "source": []
  }
 ],
 "metadata": {
  "kernelspec": {
   "display_name": ".venv",
   "language": "python",
   "name": "python3"
  },
  "language_info": {
   "codemirror_mode": {
    "name": "ipython",
    "version": 3
   },
   "file_extension": ".py",
   "mimetype": "text/x-python",
   "name": "python",
   "nbconvert_exporter": "python",
   "pygments_lexer": "ipython3",
   "version": "3.10.12"
  }
 },
 "nbformat": 4,
 "nbformat_minor": 2
}
